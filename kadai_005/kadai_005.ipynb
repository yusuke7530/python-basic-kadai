{
  "nbformat": 4,
  "nbformat_minor": 0,
  "metadata": {
    "colab": {
      "provenance": []
    },
    "kernelspec": {
      "name": "python3",
      "display_name": "Python 3"
    },
    "language_info": {
      "name": "python"
    }
  },
  "cells": [
    {
      "cell_type": "code",
      "execution_count": 4,
      "metadata": {
        "colab": {
          "base_uri": "https://localhost:8080/"
        },
        "id": "Gahh9TPo6T3a",
        "outputId": "2e81bf69-0ad7-46e4-c6ae-6ab0eabc6f78"
      },
      "outputs": [
        {
          "output_type": "stream",
          "name": "stdout",
          "text": [
            "75.0 ㎠\n"
          ]
        }
      ],
      "source": [
        "up = 10\n",
        "bottom = 20\n",
        "height = 5\n",
        "\n",
        "area = (up + bottom)* height /2\n",
        "\n",
        "print(str(area) + \" ㎠\")"
      ]
    },
    {
      "cell_type": "code",
      "source": [],
      "metadata": {
        "id": "PvXLWaQs6-hq"
      },
      "execution_count": null,
      "outputs": []
    }
  ]
}