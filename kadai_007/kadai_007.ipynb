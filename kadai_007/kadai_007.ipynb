{
  "nbformat": 4,
  "nbformat_minor": 0,
  "metadata": {
    "colab": {
      "provenance": []
    },
    "kernelspec": {
      "name": "python3",
      "display_name": "Python 3"
    },
    "language_info": {
      "name": "python"
    }
  },
  "cells": [
    {
      "cell_type": "code",
      "execution_count": 4,
      "metadata": {
        "id": "5wVFRy24KIV_"
      },
      "outputs": [],
      "source": [
        "array = [\"月曜日は晴れです\", \"火曜日は雨です\", \"水曜日は晴れです\", \"木曜日は晴れです\", \"金曜日は曇りです\", \"土曜日は曇りのち雨です\", \"日曜日は雷雨です\"]\n",
        "\n",
        "dictionary = {\"mon\":\"晴れ\", \"tue\":\"雨\", \"wed\":\"晴れ\", \"thu\":\"晴れ\", \"fri\":\"曇り\", \"sat\":\"曇りのち雨\", \"sun\":\"雷雨\"}"
      ]
    },
    {
      "cell_type": "code",
      "source": [],
      "metadata": {
        "id": "upfUOb-ZLP-c"
      },
      "execution_count": null,
      "outputs": []
    }
  ]
}